{
 "cells": [
  {
   "cell_type": "markdown",
   "metadata": {},
   "source": [
    "# Como configurar/instalar o `Wireshark` no `Linux Ubuntu`\n",
    "\n",
    "## Resumo\n",
    "\n",
    "Neste documento estão contidos os principais comandos e configurações para configurar/instalar o `Wireshark` no `Linux Ubuntu`.\n",
    "\n",
    "## _Abstract_\n",
    "\n",
    "_In this document are contained the main commands and settings to set up/install the `Wireshark` on `Linux Ubuntu`._"
   ]
  },
  {
   "cell_type": "markdown",
   "metadata": {},
   "source": [
    "## Descrição [2]\n",
    "\n",
    "### `Wireshark`\n",
    "\n",
    "O `Wireshark` é uma poderosa ferramenta de análise de protocolos de rede de código aberto, amplamente utilizada para capturar e inspecionar o tráfego de rede em tempo real. Ele permite que os usuários analisem pacotes de dados transmitidos por uma rede e fornece informações detalhadas sobre o tráfego, incluindo protocolos, origens e destinos de pacotes e seu conteúdo. O `Wireshark` é uma escolha valiosa para administradores de rede, engenheiros de segurança e profissionais de TI que precisam solucionar problemas de rede, diagnosticar problemas de desempenho e identificar possíveis ameaças de segurança. Sua interface de usuário robusta e recursos avançados o tornam uma ferramenta essencial para a análise de tráfego de rede em ambientes corporativos e de pesquisa."
   ]
  },
  {
   "cell_type": "markdown",
   "metadata": {},
   "source": [
    "## 1. Como configurar/instalar o `Wireshark` no `Linux Ubuntu` [1]\n",
    "\n",
    "Para configurar/instalar o `Wireshark` no `Linux Ubuntu`, você pode seguir estes passos:\n",
    "\n",
    "1. Abra o `Terminal Emulator`. Você pode fazer isso pressionando: `Ctrl + Alt + T`\n"
   ]
  },
  {
   "cell_type": "markdown",
   "metadata": {
    "vscode": {
     "languageId": "plaintext"
    }
   },
   "source": [
    "2. Certifique-se de que seu sistema esteja limpo e atualizado.\n",
    "\n",
    "    2.1 Limpar o `cache` do gerenciador de pacotes `apt`. Especificamente, ele remove todos os arquivos de pacotes (`.deb`) baixados pelo `apt` e armazenados em `/var/cache/apt/archives/`. Digite o seguinte comando: `sudo apt clean` \n",
    "    \n",
    "    2.2 Remover pacotes `.deb` antigos ou duplicados do cache local. É útil para liberar espaço, pois remove apenas os pacotes que não podem mais ser baixados (ou seja, versões antigas de pacotes que foram atualizados). Digite o seguinte comando: `sudo apt autoclean`\n",
    "\n",
    "    2.3 Remover pacotes que foram automaticamente instalados para satisfazer as dependências de outros pacotes e que não são mais necessários. Digite o seguinte comando: `sudo apt autoremove -y`\n",
    "\n",
    "    2.4 Buscar as atualizações disponíveis para os pacotes que estão instalados em seu sistema. Digite o seguinte comando e pressione `Enter`: `sudo apt update`\n",
    "\n",
    "    2.5 **Corrigir pacotes quebrados**: Isso atualizará a lista de pacotes disponíveis e tentará corrigir pacotes quebrados ou com dependências ausentes: `sudo apt --fix-broken install`\n",
    "\n",
    "    2.6 Limpar o `cache` do gerenciador de pacotes `apt`. Especificamente, ele remove todos os arquivos de pacotes (`.deb`) baixados pelo `apt` e armazenados em `/var/cache/apt/archives/`. Digite o seguinte comando: `sudo apt clean` \n",
    "    \n",
    "    2.7 Para ver a lista de pacotes a serem atualizados, digite o seguinte comando e pressione `Enter`:  `sudo apt list --upgradable`\n",
    "\n",
    "    2.8 Realmente atualizar os pacotes instalados para as suas versões mais recentes, com base na última vez que você executou `sudo apt update`. Digite o seguinte comando e pressione `Enter`: `sudo apt full-upgrade -y`\n",
    "    "
   ]
  },
  {
   "cell_type": "markdown",
   "metadata": {},
   "source": [
    "Para configurar/instalar/usar o `Wireshark` no `Linux Ubuntu` através do `Terminal Emulator`, você pode seguir os seguintes passos:\n",
    "\n",
    "3. **Instale o `Wireshark`:** Após a atualização, instale o `Wireshark` usando o gerenciador de pacotes `apt`. Digite o seguinte comando no terminal: `sudo apt install wireshark -y`\n",
    "\n",
    "4. **Verifique se o Wireshark está instalado:** Antes de mais nada, confirme se o `Wireshark` foi realmente instalado. Você pode verificar isso executando: `wireshark --version`\n",
    "`\n",
    "    Se o Wireshark estiver instalado, esse comando retornará a versão instalada.\n",
    "\n",
    "5. **Crie o grupo Wireshark:** Se o Wireshark está instalado mas o grupo não existe, você pode criá-lo manualmente. Para isso, use o seguinte comando: `sudo groupadd wireshark`\n",
    "`\n",
    "6. **Adicione o usuário ao grupo Wireshark:** Agora que o grupo existe, você pode adicionar seu usuário a ele com o comando que você tentou anteriormente: `sudo usermod -a -G wireshark edenedfsls`\n",
    "\n",
    "7. **Defina as permissões adequadas:** Para que os usuários do grupo `wireshark` possam capturar pacotes, é necessário ajustar as permissões do `dumpcap`, um componente do Wireshark. Execute os seguintes comandos:\n",
    "    \n",
    "    ```\n",
    "    sudo chgrp wireshark /usr/bin/dumpcap\n",
    "    sudo chmod 750 /usr/bin/dumpcap\n",
    "    sudo setcap 'CAP_NET_RAW+eip CAP_NET_ADMIN+eip' /usr/bin/dumpcap\n",
    "    ```\n",
    "\n",
    "8. **Reinicie a sessão:** Após adicionar o usuário ao grupo `wireshark`, é necessário reiniciar a sessão (ou reiniciar o computador) para que as alterações entrem em vigor.\n",
    "\n",
    "Essas etapas devem resolver o problema com a criação do grupo `wireshark` e permitir que você use o Wireshark para captura de pacotes sem precisar de privilégios de superusuário."
   ]
  },
  {
   "cell_type": "markdown",
   "metadata": {
    "vscode": {
     "languageId": "plaintext"
    }
   },
   "source": [
    "### 1.1 Código completo para configurar/instalar/usar\n",
    "\n",
    "Para confiurar/instalar/usar o `Wireshark` no `Linux Ubuntu` sem precisar digitar linha por linha, você pode seguir estas etapas:\n",
    "\n",
    "1. Abra o `Terminal Emulator`. Você pode fazer isso pressionando: `Ctrl + Alt + T`\n",
    "\n",
    "2. Digite o seguinte comando e pressione `Enter`:\n",
    "\n",
    "    ```\n",
    "    NÃO há.\n",
    "    ```\n"
   ]
  },
  {
   "cell_type": "markdown",
   "metadata": {
    "vscode": {
     "languageId": "plaintext"
    }
   },
   "source": [
    "## Referências\n",
    "\n",
    "[1] OPENAI. ***Instalar wireshark no ubuntu:*** Disponível em: <https://chatgpt.com/c/ecb19e97-055b-46be-8c2d-69c46534a754> (texto adaptado). Acessado em: 28/11/2023 16:02.\n",
    "\n",
    "[2] OPENAI. ***Vs code: editor popular:*** https://chat.openai.com/c/b640a25d-f8e3-4922-8a3b-ed74a2657e42 (texto adaptado). Acessado em: 28/11/2023 16:02.\n"
   ]
  }
 ],
 "metadata": {
  "kernelspec": {
   "display_name": "Python 3",
   "language": "python",
   "name": "python3"
  },
  "language_info": {
   "codemirror_mode": {
    "name": "ipython",
    "version": 3
   },
   "file_extension": ".py",
   "mimetype": "text/x-python",
   "name": "python",
   "nbconvert_exporter": "python",
   "pygments_lexer": "ipython3",
   "version": "3.11.5"
  },
  "orig_nbformat": 4
 },
 "nbformat": 4,
 "nbformat_minor": 2
}
